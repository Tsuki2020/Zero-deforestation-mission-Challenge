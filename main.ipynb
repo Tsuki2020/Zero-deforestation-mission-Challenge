{
 "cells": [
  {
   "cell_type": "markdown",
   "metadata": {},
   "source": [
    "# Import packages and list potential classifiers"
   ]
  },
  {
   "cell_type": "code",
   "execution_count": 54,
   "metadata": {},
   "outputs": [],
   "source": [
    "# Common data handling libraries\n",
    "import os\n",
    "import string\n",
    "import pandas as pd\n",
    "import numpy as np\n",
    "import matplotlib.pyplot as plt\n",
    "import time\n",
    "from keras.preprocessing import image\n",
    "import json\n",
    "\n",
    "# Tensorflow for model building\n",
    "import tensorflow as tf\n",
    "\n",
    "# Keras for text-based classifier\n",
    "from sklearn.model_selection import train_test_split\n",
    "from sklearn.preprocessing import StandardScaler \n",
    "from sklearn.metrics import classification_report, accuracy_score, confusion_matrix\n",
    "\n",
    "from sklearn.datasets import make_moons, make_circles, make_classification\n",
    "from sklearn.neural_network import MLPClassifier\n",
    "from sklearn.neighbors import KNeighborsClassifier\n",
    "from sklearn.svm import SVC\n",
    "from sklearn.gaussian_process import GaussianProcessClassifier\n",
    "from sklearn.gaussian_process.kernels import RBF\n",
    "from sklearn.tree import DecisionTreeClassifier\n",
    "from sklearn.ensemble import RandomForestClassifier, AdaBoostClassifier\n",
    "from sklearn.naive_bayes import GaussianNB\n",
    "from sklearn.discriminant_analysis import QuadraticDiscriminantAnalysis\n",
    "from sklearn.inspection import DecisionBoundaryDisplay\n",
    "\n",
    "names = [\n",
    "    \"Nearest Neighbors\",\n",
    "    \"Linear SVM\",\n",
    "    \"RBF SVM\",\n",
    "    #\"Gaussian Process\",\n",
    "    \"Decision Tree\",\n",
    "    \"Random Forest\",\n",
    "    \"Neural Net\",\n",
    "    \"AdaBoost\",\n",
    "    \"Naive Bayes\",\n",
    "    \"QDA\",\n",
    "]\n",
    "\n",
    "classifiers = [\n",
    "    KNeighborsClassifier(3),\n",
    "    SVC(kernel=\"linear\", C=0.025),\n",
    "    SVC(gamma=2, C=1),\n",
    "    #GaussianProcessClassifier(1.0 * RBF(1.0)),\n",
    "    DecisionTreeClassifier(max_depth=5),\n",
    "    RandomForestClassifier(max_depth=5, n_estimators=10, max_features=1),\n",
    "    MLPClassifier(alpha=1, max_iter=1000),\n",
    "    AdaBoostClassifier(),\n",
    "    GaussianNB(),\n",
    "    QuadraticDiscriminantAnalysis(),\n",
    "]"
   ]
  },
  {
   "cell_type": "markdown",
   "metadata": {},
   "source": [
    "# Load and preprocess dataset"
   ]
  },
  {
   "cell_type": "code",
   "execution_count": 55,
   "metadata": {},
   "outputs": [],
   "source": [
    "TEST_IMG = 'train_test_data/test'\n",
    "TRAIN_IMG = 'train_test_data/train'\n",
    "TEST_CSV = 'test.csv'\n",
    "TRAIN_CSV = 'train.csv'\n",
    "\n",
    "traindata_csv = pd.read_csv(TRAIN_CSV)\n",
    "testdata_csv = pd.read_csv(TEST_CSV)"
   ]
  },
  {
   "cell_type": "markdown",
   "metadata": {},
   "source": [
    "# Text-based classifier with trainDataset"
   ]
  },
  {
   "cell_type": "code",
   "execution_count": 56,
   "metadata": {},
   "outputs": [
    {
     "name": "stdout",
     "output_type": "stream",
     "text": [
      "Nearest Neighbors\n",
      ": 0.6466019417475728\n",
      "Linear SVM\n",
      ": 0.5184466019417475\n",
      "RBF SVM\n",
      ": 0.654368932038835\n",
      "Decision Tree\n",
      ": 0.6407766990291263\n",
      "Random Forest\n",
      ": 0.6504854368932039\n",
      "Neural Net\n",
      ": 0.625242718446602\n",
      "AdaBoost\n",
      ": 0.6427184466019418\n",
      "Naive Bayes\n",
      ": 0.5514563106796116\n",
      "QDA\n",
      ": 0.5631067961165048\n"
     ]
    }
   ],
   "source": [
    "# Assign values to the X and y variables:\n",
    "X = traindata_csv[['latitude', 'longitude', 'year']]\n",
    "y = traindata_csv['label']\n",
    "X_eval = testdata_csv[['latitude', 'longitude', 'year']]\n",
    "\n",
    "# Split dataset into random train and test subsets:\n",
    "X_train, X_test, y_train, y_test = train_test_split(X, y, test_size=0.30)\n",
    "\n",
    "# Standardize features by removing mean and scaling to unit variance:\n",
    "scaler = StandardScaler()\n",
    "scaler.fit(X_train)\n",
    "\n",
    "X_train = scaler.transform(X_train)\n",
    "X_test = scaler.transform(X_test) \n",
    "\n",
    "for i, classifier in enumerate(classifiers):\n",
    "    print(names[i])\n",
    "    classifier.fit(X_train, y_train) \n",
    "\n",
    "    # Predict y data with classifier: \n",
    "    y_predict = classifier.predict(X_test)\n",
    "\n",
    "    # Print results: \n",
    "    #print(confusion_matrix(y_test, y_predict))\n",
    "    print(':', accuracy_score(y_test, y_predict))\n",
    "    #print(classification_report(y_test, y_predict)) "
   ]
  },
  {
   "cell_type": "markdown",
   "metadata": {},
   "source": [
    "# Text-based classifier with testDataset"
   ]
  },
  {
   "cell_type": "code",
   "execution_count": 60,
   "metadata": {},
   "outputs": [],
   "source": [
    "import os\n",
    "# Assign values to the X and y variables:\n",
    "X = traindata_csv[['latitude', 'longitude', 'year']]\n",
    "y = traindata_csv['label']\n",
    "X_eval = testdata_csv[['latitude', 'longitude', 'year']]\n",
    "\n",
    "# Standardize features by removing mean and scaling to unit variance:\n",
    "scaler = StandardScaler()\n",
    "\n",
    "X = scaler.fit_transform(X)\n",
    "X_eval = scaler.fit_transform(X_eval)\n",
    "\n",
    "classifier = SVC(gamma=2, C=1)\n",
    "classifier.fit(X, y) \n",
    "\n",
    "y_predict = classifier.predict(X_eval)\n",
    "\n",
    "img_list = []\n",
    "for s in testdata_csv.example_path:\n",
    "    name = os.path.split(s)[1].replace(\".png\",\"\")\n",
    "    img_list.append(name)\n",
    "\n",
    "result = {'target': {name: int(pred) for name, pred in zip(img_list, y_predict)}}\n",
    "with open(\"predictions.json\", \"w\") as outfile:\n",
    "    json.dump(result, outfile)"
   ]
  }
 ],
 "metadata": {
  "kernelspec": {
   "display_name": "Python 3.10.6 64-bit",
   "language": "python",
   "name": "python3"
  },
  "language_info": {
   "codemirror_mode": {
    "name": "ipython",
    "version": 3
   },
   "file_extension": ".py",
   "mimetype": "text/x-python",
   "name": "python",
   "nbconvert_exporter": "python",
   "pygments_lexer": "ipython3",
   "version": "3.10.6"
  },
  "orig_nbformat": 4,
  "vscode": {
   "interpreter": {
    "hash": "a9338f67d315c6866a694c5b19a58126cb05e126a27e7601fb865c900512a15c"
   }
  }
 },
 "nbformat": 4,
 "nbformat_minor": 2
}
